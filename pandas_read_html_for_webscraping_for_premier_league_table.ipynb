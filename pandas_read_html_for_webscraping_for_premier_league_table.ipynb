{
  "nbformat": 4,
  "nbformat_minor": 0,
  "metadata": {
    "colab": {
      "provenance": [],
      "authorship_tag": "ABX9TyOdB7ATtdq7gdTk9b63EwHC",
      "include_colab_link": true
    },
    "kernelspec": {
      "name": "python3",
      "display_name": "Python 3"
    },
    "language_info": {
      "name": "python"
    }
  },
  "cells": [
    {
      "cell_type": "markdown",
      "metadata": {
        "id": "view-in-github",
        "colab_type": "text"
      },
      "source": [
        "<a href=\"https://colab.research.google.com/github/Damicode2/code5/blob/main/pandas_read_html_for_webscraping_for_premier_league_table.ipynb\" target=\"_parent\"><img src=\"https://colab.research.google.com/assets/colab-badge.svg\" alt=\"Open In Colab\"/></a>"
      ]
    },
    {
      "cell_type": "code",
      "execution_count": 10,
      "metadata": {
        "colab": {
          "base_uri": "https://localhost:8080/",
          "height": 35
        },
        "id": "SYZ_FB0i6Dpe",
        "outputId": "ff6341f6-83ce-4887-b95a-e3141092c592"
      },
      "outputs": [
        {
          "output_type": "execute_result",
          "data": {
            "text/plain": [
              "'https://www.espn.com/soccer/standings/_/league/ENG.1/season/2024'"
            ],
            "application/vnd.google.colaboratory.intrinsic+json": {
              "type": "string"
            }
          },
          "metadata": {},
          "execution_count": 10
        }
      ],
      "source": [
        "year = 2024\n",
        "url_link = 'https://www.espn.com/soccer/standings/_/league/ENG.1/season/{}'\n",
        "url = url_link.format(year)\n",
        "url"
      ]
    },
    {
      "cell_type": "code",
      "source": [
        "import pandas as pd\n",
        "import requests\n",
        "import time"
      ],
      "metadata": {
        "id": "XctJSCWk7FAU"
      },
      "execution_count": 42,
      "outputs": []
    },
    {
      "cell_type": "code",
      "source": [
        "def get_standings(season):\n",
        "    url = f\"https://www.espn.com/soccer/standings/_/league/ENG.1/season/{season}\"\n",
        "    headers = {\"User-Agent\": \"Mozilla/5.0\"}\n",
        "\n",
        "    try:\n",
        "        response = requests.get(url, headers=headers)\n",
        "        response.raise_for_status()\n",
        "        tables = pd.read_html(response.text)\n",
        "# ESPN standings usually in first table\n",
        "        df = tables[0]\n",
        "\n",
        "# Drop multi-level column if present\n",
        "        if isinstance(df.columns, pd.MultiIndex):\n",
        "            df.columns = df.columns.droplevel(0)\n",
        "\n",
        "        df.columns = [col.strip() for col in df.columns]\n",
        "        df[\"Season\"] = season  # Add season column for tracking\n",
        "        return df\n",
        "    except Exception as e:\n",
        "        print(f\"Failed to get data for season {season}: {e}\")\n",
        "        return None"
      ],
      "metadata": {
        "id": "NMWRNAeaDY-M"
      },
      "execution_count": 48,
      "outputs": []
    },
    {
      "cell_type": "code",
      "source": [
        "years = [2019, 2020, 2021, 2022, 2023, 2024]\n",
        "url_link = 'https://www.espn.com/soccer/standings/_/league/ENG.1/season/{}'\n",
        "\n",
        "for year in years:\n",
        "  url = url_link.format(year)\n",
        "  print(url)"
      ],
      "metadata": {
        "colab": {
          "base_uri": "https://localhost:8080/"
        },
        "id": "zpdnHgac6UXG",
        "outputId": "52be9b39-b56f-4222-fd4f-a02b840b1b57"
      },
      "execution_count": 49,
      "outputs": [
        {
          "output_type": "stream",
          "name": "stdout",
          "text": [
            "https://www.espn.com/soccer/standings/_/league/ENG.1/season/2019\n",
            "https://www.espn.com/soccer/standings/_/league/ENG.1/season/2020\n",
            "https://www.espn.com/soccer/standings/_/league/ENG.1/season/2021\n",
            "https://www.espn.com/soccer/standings/_/league/ENG.1/season/2022\n",
            "https://www.espn.com/soccer/standings/_/league/ENG.1/season/2023\n",
            "https://www.espn.com/soccer/standings/_/league/ENG.1/season/2024\n"
          ]
        }
      ]
    },
    {
      "cell_type": "code",
      "source": [
        "# Range of seasons (e.g. 2017 to 2021)\n",
        "start_season = 2017\n",
        "end_season = 2021\n",
        "\n",
        "all_seasons = {}\n",
        "for season in range(start_season, end_season + 1):\n",
        "    print(f\"Fetching season {season}...\")\n",
        "    df = get_standings(season)\n",
        "    if df is not None:\n",
        "        all_seasons[season] = df\n",
        "        df.to_csv(f\"EPL_Standings_{season}.csv\", index=False)  # Optional: save CSV\n",
        "    time.sleep(1)  # Be polite to the server"
      ],
      "metadata": {
        "colab": {
          "base_uri": "https://localhost:8080/"
        },
        "id": "PZU0BkLTBUy5",
        "outputId": "a5b9f42a-ad8b-47aa-b56a-39c469db87cc"
      },
      "execution_count": 50,
      "outputs": [
        {
          "output_type": "stream",
          "name": "stdout",
          "text": [
            "Fetching season 2017...\n"
          ]
        },
        {
          "output_type": "stream",
          "name": "stderr",
          "text": [
            "<ipython-input-48-1230020185>:8: FutureWarning: Passing literal html to 'read_html' is deprecated and will be removed in a future version. To read from a literal string, wrap it in a 'StringIO' object.\n",
            "  tables = pd.read_html(response.text)\n"
          ]
        },
        {
          "output_type": "stream",
          "name": "stdout",
          "text": [
            "Fetching season 2018...\n"
          ]
        },
        {
          "output_type": "stream",
          "name": "stderr",
          "text": [
            "<ipython-input-48-1230020185>:8: FutureWarning: Passing literal html to 'read_html' is deprecated and will be removed in a future version. To read from a literal string, wrap it in a 'StringIO' object.\n",
            "  tables = pd.read_html(response.text)\n"
          ]
        },
        {
          "output_type": "stream",
          "name": "stdout",
          "text": [
            "Fetching season 2019...\n"
          ]
        },
        {
          "output_type": "stream",
          "name": "stderr",
          "text": [
            "<ipython-input-48-1230020185>:8: FutureWarning: Passing literal html to 'read_html' is deprecated and will be removed in a future version. To read from a literal string, wrap it in a 'StringIO' object.\n",
            "  tables = pd.read_html(response.text)\n"
          ]
        },
        {
          "output_type": "stream",
          "name": "stdout",
          "text": [
            "Fetching season 2020...\n"
          ]
        },
        {
          "output_type": "stream",
          "name": "stderr",
          "text": [
            "<ipython-input-48-1230020185>:8: FutureWarning: Passing literal html to 'read_html' is deprecated and will be removed in a future version. To read from a literal string, wrap it in a 'StringIO' object.\n",
            "  tables = pd.read_html(response.text)\n"
          ]
        },
        {
          "output_type": "stream",
          "name": "stdout",
          "text": [
            "Fetching season 2021...\n"
          ]
        },
        {
          "output_type": "stream",
          "name": "stderr",
          "text": [
            "<ipython-input-48-1230020185>:8: FutureWarning: Passing literal html to 'read_html' is deprecated and will be removed in a future version. To read from a literal string, wrap it in a 'StringIO' object.\n",
            "  tables = pd.read_html(response.text)\n"
          ]
        }
      ]
    },
    {
      "cell_type": "code",
      "source": [
        "# Optional: Combine all into one DataFrame\n",
        "combined_df = pd.concat(all_seasons.values(), ignore_index=True)\n",
        "combined_df.to_csv(\"EPL_Standings_Combined.csv\", index=False)\n",
        "\n",
        "print(\"Scraping complete. Data saved.\")"
      ],
      "metadata": {
        "colab": {
          "base_uri": "https://localhost:8080/"
        },
        "id": "HCUhqIk08plA",
        "outputId": "88695e12-f6ca-4443-c0ce-cc2515b9fb10"
      },
      "execution_count": 51,
      "outputs": [
        {
          "output_type": "stream",
          "name": "stdout",
          "text": [
            "Scraping complete. Data saved.\n"
          ]
        }
      ]
    }
  ]
}